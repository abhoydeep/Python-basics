{
  "nbformat": 4,
  "nbformat_minor": 0,
  "metadata": {
    "colab": {
      "provenance": []
    },
    "kernelspec": {
      "name": "python3",
      "display_name": "Python 3"
    },
    "language_info": {
      "name": "python"
    }
  },
  "cells": [
    {
      "cell_type": "markdown",
      "source": [
        "#Python basic question\n"
      ],
      "metadata": {
        "id": "G874XFDn8Bun"
      }
    },
    {
      "cell_type": "markdown",
      "source": [
        "1.What is Python and why is it popular?\n",
        "- Python is a high level, interpreted programming language and it is popular for it's simplicity and readability, large community support etc."
      ],
      "metadata": {
        "id": "LvYjEJ7VEsL8"
      }
    },
    {
      "cell_type": "markdown",
      "source": [
        "2.What is an interpreter is Python?\n",
        "\n",
        "- A Python interpreter is a program that runs Python code step by step, turning it into machine-readable instructions."
      ],
      "metadata": {
        "id": "T0KFIM6_FIWU"
      }
    },
    {
      "cell_type": "markdown",
      "source": [
        "3.What are-predefined keywords in Python?\n",
        "\n",
        "- Predefined keywords in Python are special words that have a fixed meaning in the language and cannot be used as variable names,function names, or identifiers. These keywords help define the structure and logic of Python programs."
      ],
      "metadata": {
        "id": "4TZOX0uMFIZl"
      }
    },
    {
      "cell_type": "markdown",
      "source": [
        "4.Can keywords be used as variable names?\n",
        "\n",
        "- No, keywords cannot be used as variable names in Python. Since keywords have special meanings in the language, using a keyword as a variable name will cause an error, and it won't work as a keyword anymore.\n",
        "\n"
      ],
      "metadata": {
        "id": "EP9WPS0EFIg0"
      }
    },
    {
      "cell_type": "markdown",
      "source": [
        "5.What is Mutability in Python?\n",
        "\n",
        "- In Python, mutability refers to whether or not an object can be modified after it is created."
      ],
      "metadata": {
        "id": "g-EAC0YJF5fN"
      }
    },
    {
      "cell_type": "markdown",
      "source": [
        "6.Why are lists Mutable, but tuples are immutable?\n",
        "\n",
        "-\n",
        "Lists are mutable because they’re meant to be flexible and let you modify the data, like adding or removing elements. Tuples are immutable because they’re intended for fixed collections of data that shouldn’t change. This makes them more memory-efficient and faster than lists, and they also help keep the data safe from accidental changes."
      ],
      "metadata": {
        "id": "SIgadaItF5u-"
      }
    },
    {
      "cell_type": "markdown",
      "source": [
        "7.What is the difference between \"==\" and \"is\" operators in Python?\n",
        "\n",
        "- The '==' operator checks if the values of two objects are the same, meaning it compares their contents. The 'is' operator checks if two objects are the same object in memory, meaning it compares their identity. So, '==' is used for value comparison, while 'is' is used for identity comparison."
      ],
      "metadata": {
        "id": "DFnqH-PKI-mU"
      }
    },
    {
      "cell_type": "markdown",
      "source": [
        "8.What are logical operators in Python?\n",
        "\n",
        "- In Python, logical operators are used to combine conditional statements or expressions and evaluate whether they are true or false."
      ],
      "metadata": {
        "id": "wxUcSlzTI-pL"
      }
    },
    {
      "cell_type": "markdown",
      "source": [
        " 9.What is typecasting in Python?\n",
        "\n",
        " - Typecasting in Python is when you convert a variable from one data type to another. This can be done automatically by Python, or we can manually convert it to a specific type when needed."
      ],
      "metadata": {
        "id": "L19yyHqFI-wT"
      }
    },
    {
      "cell_type": "markdown",
      "source": [
        "10.What is the diffrence between implicit and explicit typecasting?\n",
        "\n",
        "- Implicit typecasting is when Python automatically converts a variable from one type to another without you needing to do anything. It usually happens when a smaller data type is converted to a larger one, like turning an integer into a float.  Explicit typecasting is when you manually convert a variable to a specific type, like turning a string into an integer or a float into an integer."
      ],
      "metadata": {
        "id": "_ekhGRSmI-zO"
      }
    },
    {
      "cell_type": "markdown",
      "source": [
        "11.What is the purpose of conditional statment in Python?\n",
        "\n",
        "- The purpose of a conditional statement in Python is to let the program make decisions based on certain conditions. It lets the program execute different blocks of code depending on whether a condition is true or false."
      ],
      "metadata": {
        "id": "WZCe8ef-JAGU"
      }
    },
    {
      "cell_type": "markdown",
      "source": [
        "12.How does the 'elif' statment work?\n",
        "\n",
        "- The 'elif' statement in Python is used to check multiple conditions after the initial 'if' statement. If the condition in the 'if' statement is false, Python moves on to the 'elif' statement. If the condition in the 'elif' is true, the block of code under it will be executed. If the 'elif' condition is false, it will continue checking any other 'elif' statements or go to the 'else' block if one is provided."
      ],
      "metadata": {
        "id": "qT1C8KlKJAPV"
      }
    },
    {
      "cell_type": "markdown",
      "source": [
        "13.What is the difference between for loops and while loops?\n",
        "\n",
        "- The main difference between 'for' loops and 'while' loops is how they control iteration. A for loop is used when you know the number of iterations, typically iterating over a sequence like a list, string, or range. A while loop, on the other hand, runs as long as a given condition is true, and the number of iterations depends on when the condition becomes false."
      ],
      "metadata": {
        "id": "s_rsr-f4JAXj"
      }
    },
    {
      "cell_type": "markdown",
      "source": [
        "14.Describe a scenario where a while loop is more suitable than a for loop.\n",
        "\n",
        "-A while loop is more suitable when we don't know in advance how many times the loop should run, but we want it to continue as long as a specific condition is true.So if we are building a program that repeatedly asks a user to enter a valid password until they get it right. We don't know how many attempts the user will need, but we want the loop to keep going until the correct password is entered.In this case, the while loop keeps running until the user enters the correct password."
      ],
      "metadata": {
        "id": "yDYVU1zdJAgL"
      }
    },
    {
      "cell_type": "code",
      "source": [
        "#PRACTICAL QUESTIONS\n",
        "\n"
      ],
      "metadata": {
        "id": "FlXzR3wz_SKA"
      },
      "execution_count": 1,
      "outputs": []
    },
    {
      "cell_type": "code",
      "source": [
        "#1 Write a Python program to print \"Hello, World!\"\n",
        "print(\"Hello world\")"
      ],
      "metadata": {
        "colab": {
          "base_uri": "https://localhost:8080/"
        },
        "id": "t5nfbSuLUxQg",
        "outputId": "327640ad-3030-4d17-8f55-898d8346aee5"
      },
      "execution_count": 2,
      "outputs": [
        {
          "output_type": "stream",
          "name": "stdout",
          "text": [
            "Hello world\n"
          ]
        }
      ]
    },
    {
      "cell_type": "code",
      "source": [
        "#2. Write a Python program that displays your name and age.\n",
        "name=\"Abhoydeep\"\n",
        "age=19\n",
        "print(\"name:\",name)\n",
        "print(\"age:\",age)"
      ],
      "metadata": {
        "colab": {
          "base_uri": "https://localhost:8080/"
        },
        "id": "FI2LCHCPVDZH",
        "outputId": "110958fd-e74a-4520-8fd9-48442f84ecb7"
      },
      "execution_count": 3,
      "outputs": [
        {
          "output_type": "stream",
          "name": "stdout",
          "text": [
            "name: Abhoydeep\n",
            "age: 19\n"
          ]
        }
      ]
    },
    {
      "cell_type": "code",
      "source": [
        "#3.Write code to print all the pre-defined keywords in Python using the keyword library.\n",
        "help('keywords')"
      ],
      "metadata": {
        "colab": {
          "base_uri": "https://localhost:8080/"
        },
        "id": "WIF4Cxm4VY8g",
        "outputId": "9aa2e194-3f62-44e9-d6d6-ba9c8291bd7c"
      },
      "execution_count": 4,
      "outputs": [
        {
          "output_type": "stream",
          "name": "stdout",
          "text": [
            "\n",
            "Here is a list of the Python keywords.  Enter any keyword to get more help.\n",
            "\n",
            "False               class               from                or\n",
            "None                continue            global              pass\n",
            "True                def                 if                  raise\n",
            "and                 del                 import              return\n",
            "as                  elif                in                  try\n",
            "assert              else                is                  while\n",
            "async               except              lambda              with\n",
            "await               finally             nonlocal            yield\n",
            "break               for                 not                 \n",
            "\n"
          ]
        }
      ]
    },
    {
      "cell_type": "code",
      "source": [
        "#4.Write a program that checks if a given word is a Python keyword.\n",
        "\n",
        "\n",
        "\n",
        "# List of some Python keywords\n",
        "python_keywords = ['False', 'None', 'True', 'and', 'as', 'assert', 'break', 'class', 'continue', 'def', 'del', 'elif', 'else', 'except', 'finally', 'for', 'from', 'global', 'if', 'import', 'in', 'is', 'lambda', 'nonlocal', 'not', 'or', 'pass', 'raise', 'return', 'try', 'while', 'with', 'yield']\n",
        "\n",
        "# Word to check\n",
        "word = 'del'  # (We will put the given word we want check as value)\n",
        "\n",
        "# Checks if the word is a keyword using a loop\n",
        "is_keyword = False\n",
        "for keyword in python_keywords:\n",
        "    if word == keyword:\n",
        "        is_keyword = True\n",
        "        break\n",
        "\n",
        "# Print the result using string concatenation\n",
        "if is_keyword:\n",
        "    print(\"'\" + word + \"' is a Python keyword.\")\n",
        "else:\n",
        "    print(\"'\" + word + \"' is not a Python keyword.\")\n",
        "\n",
        "\n",
        "\n",
        "\n",
        "\n",
        "\n",
        "\n",
        "\n",
        "\n"
      ],
      "metadata": {
        "colab": {
          "base_uri": "https://localhost:8080/"
        },
        "id": "TbMaLuSUYBs1",
        "outputId": "9e7642a7-c463-4c72-caa8-05c3ab3b6750"
      },
      "execution_count": 5,
      "outputs": [
        {
          "output_type": "stream",
          "name": "stdout",
          "text": [
            "'del' is a Python keyword.\n"
          ]
        }
      ]
    },
    {
      "cell_type": "code",
      "source": [
        "# List of some Python keywords\n",
        "python_keywords = ['False', 'None', 'True', 'and', 'as', 'assert', 'break', 'class', 'continue', 'def', 'del', 'elif', 'else', 'except', 'finally', 'for', 'from', 'global', 'if', 'import', 'in', 'is', 'lambda', 'nonlocal', 'not', 'or', 'pass', 'raise', 'return', 'try', 'while', 'with', 'yield']\n",
        "\n",
        "# Word to check\n",
        "word = 'Abhoy'  # (We will put the given word we want check as value)\n",
        "\n",
        "# Checks if the word is a keyword using a loop\n",
        "is_keyword = False\n",
        "for keyword in python_keywords:\n",
        "    if word == keyword:\n",
        "        is_keyword = True\n",
        "        break\n",
        "\n",
        "# Print the result using string concatenation\n",
        "if is_keyword:\n",
        "    print(\"'\" + word + \"' is a Python keyword.\")\n",
        "else:\n",
        "    print(\"'\" + word + \"' is not a Python keyword.\")"
      ],
      "metadata": {
        "colab": {
          "base_uri": "https://localhost:8080/"
        },
        "id": "SqfOUoRT71sH",
        "outputId": "11a4ab65-15d0-4640-c918-eb6d00e1b279"
      },
      "execution_count": 6,
      "outputs": [
        {
          "output_type": "stream",
          "name": "stdout",
          "text": [
            "'Abhoy' is not a Python keyword.\n"
          ]
        }
      ]
    },
    {
      "cell_type": "code",
      "source": [
        "#5.Create a list and tuple in Python, and demonstrate how attempting to change an element works differently for each.\n",
        "\n",
        "\n",
        "\n",
        "# Creating a list (mutable)\n",
        "list_cont = [\"a\", \"b\", \"c\", \"d\", \"e\"]\n",
        "# Creating a tuple (immutable)\n",
        "tuple_cont = (\"a\", \"b\", \"c\", \"d\", \"e\")\n",
        "\n",
        "# Printing original list and tuple\n",
        "print(\"Original list:\", list_cont)\n",
        "print(\"Original tuple:\", tuple_cont)\n",
        "\n",
        "# Modifying an element in the list (this will work)\n",
        "list_cont[3] = 100  # Changing the value at index 3\n",
        "print(\"Modified list:\", list_cont)\n",
        "\n",
        "# Tuples are immutable, so modifying an element will cause an error\n",
        "# tuple_cont[3] = 100  # This will throw an error, so we are not executing it\n",
        "# print(tuple_cont)\n",
        "print(\"Tuples cannot be modified because they are immutable.\")\n",
        "\n"
      ],
      "metadata": {
        "colab": {
          "base_uri": "https://localhost:8080/"
        },
        "id": "KnHKw8FXiDvl",
        "outputId": "c7d5329e-fa06-4797-b040-47ae3ecacdac"
      },
      "execution_count": 7,
      "outputs": [
        {
          "output_type": "stream",
          "name": "stdout",
          "text": [
            "Original list: ['a', 'b', 'c', 'd', 'e']\n",
            "Original tuple: ('a', 'b', 'c', 'd', 'e')\n",
            "Modified list: ['a', 'b', 'c', 100, 'e']\n",
            "Tuples cannot be modified because they are immutable.\n"
          ]
        }
      ]
    },
    {
      "cell_type": "code",
      "source": [
        "#6.Write a function to demonstrate the behaviour of mutable and immutable arguments.\n",
        "\n",
        "#I dont know. I haver not reached the  topic 'functions' yet."
      ],
      "metadata": {
        "id": "EaoNXQZQ0Yau"
      },
      "execution_count": 8,
      "outputs": []
    },
    {
      "cell_type": "code",
      "source": [
        "#7.  Same question as qt.6"
      ],
      "metadata": {
        "id": "oHe_NqnBd4St"
      },
      "execution_count": 9,
      "outputs": []
    },
    {
      "cell_type": "code",
      "source": [
        "#8.Write a program to demonstrate the use of logical operators.\n",
        "\n",
        "\n",
        "# Defining two variables with numerical values\n",
        "x = 10\n",
        "y = 5\n",
        "\n",
        "# The 'and' operator checks if if both conditions are true.\n",
        "print(\"AND operator:\")\n",
        "\n",
        "if x > 5 and y < 10:\n",
        "    print(\"Both conditions are True.\")\n",
        "else:\n",
        "    print(\"At least one condition is False.\")\n",
        "#Result will be True as both conditions are true.\n",
        "\n",
        "\n",
        "# The 'or' operator  checks if at least one condition is true.\n",
        "print(\"OR operator:\")\n",
        "\n",
        "if x > 5 or y > 10:\n",
        "    print(\"At least one condition is True.\")\n",
        "else:\n",
        "    print(\"Both conditions are False.\")\n",
        "#The result will be True as we need atleast one condition to be true and this\n",
        "#case both conditions are true.\n",
        "\n",
        "\n",
        "# The'not' operator  reverses a condition.\n",
        "\n",
        "print(\"NOT operator:\")\n",
        "if not(x == 10):\n",
        "    print(\"Condition is False.\")\n",
        "else:\n",
        "    print(\"Condition is True.\")\n",
        "#The result will be False as it reverses the condition.\n"
      ],
      "metadata": {
        "colab": {
          "base_uri": "https://localhost:8080/"
        },
        "id": "-zDLjIwueFo0",
        "outputId": "e081c5e2-65e5-493b-9f93-a4f639a444f8"
      },
      "execution_count": 10,
      "outputs": [
        {
          "output_type": "stream",
          "name": "stdout",
          "text": [
            "AND operator:\n",
            "Both conditions are True.\n",
            "OR operator:\n",
            "At least one condition is True.\n",
            "NOT operator:\n",
            "Condition is True.\n"
          ]
        }
      ]
    },
    {
      "cell_type": "code",
      "source": [
        "#9.Write a Python program to convert user input from string to integer, float, and boolean types.\n",
        "\n",
        "\n",
        "user_input = \"1\"\n",
        "\n",
        "#converting string to integer\n",
        "user_input = int(user_input)\n",
        "type(user_input)\n"
      ],
      "metadata": {
        "id": "63limzDGfSRa",
        "colab": {
          "base_uri": "https://localhost:8080/"
        },
        "outputId": "be955f0e-51bf-454b-c0d8-e01ca01cb6c1"
      },
      "execution_count": 11,
      "outputs": [
        {
          "output_type": "execute_result",
          "data": {
            "text/plain": [
              "int"
            ]
          },
          "metadata": {},
          "execution_count": 11
        }
      ]
    },
    {
      "cell_type": "code",
      "source": [
        "#converting it to float\n",
        "user_input = float(user_input)\n",
        "type(user_input)\n",
        "\n"
      ],
      "metadata": {
        "colab": {
          "base_uri": "https://localhost:8080/"
        },
        "id": "v3BztmAk4wRy",
        "outputId": "fe82bf61-08d0-416f-ace0-f9c887ed6a39"
      },
      "execution_count": 12,
      "outputs": [
        {
          "output_type": "execute_result",
          "data": {
            "text/plain": [
              "float"
            ]
          },
          "metadata": {},
          "execution_count": 12
        }
      ]
    },
    {
      "cell_type": "code",
      "source": [
        "#converting it to boolean\n",
        "user_input = bool(user_input)\n",
        "type(user_input)"
      ],
      "metadata": {
        "colab": {
          "base_uri": "https://localhost:8080/"
        },
        "id": "GDf-7XBE7Owm",
        "outputId": "5cf12f69-a085-491c-f7e8-0edaf4ddc10f"
      },
      "execution_count": 13,
      "outputs": [
        {
          "output_type": "execute_result",
          "data": {
            "text/plain": [
              "bool"
            ]
          },
          "metadata": {},
          "execution_count": 13
        }
      ]
    },
    {
      "cell_type": "code",
      "source": [
        "#10. Write code to demonstrate type casting with list elements.\n",
        "\n",
        "#I don't know.\n"
      ],
      "metadata": {
        "id": "oZIj2hCO7PvW"
      },
      "execution_count": 14,
      "outputs": []
    },
    {
      "cell_type": "code",
      "source": [
        "#11.Write a program that checks if a number is positive, negative, or zero.\n",
        "\n",
        " # I don't know."
      ],
      "metadata": {
        "id": "00i5jsM78fmB"
      },
      "execution_count": 15,
      "outputs": []
    },
    {
      "cell_type": "code",
      "source": [
        "#12. Write a for loop to print numbers from 1 to 10.\n",
        "\n",
        "#I don't know."
      ],
      "metadata": {
        "id": "aAJ1wolg8n2B"
      },
      "execution_count": 16,
      "outputs": []
    },
    {
      "cell_type": "code",
      "source": [
        "#13.Write a Python program to find the sum of all even numbers between 1 and 50.\n",
        "\n",
        "#I don't know."
      ],
      "metadata": {
        "id": "cw-tPGTe9Rzr"
      },
      "execution_count": 17,
      "outputs": []
    },
    {
      "cell_type": "code",
      "source": [
        "#14.Write a program to reverse a string using a while loop.\n",
        " #I don't know."
      ],
      "metadata": {
        "id": "UhOcC2ec9aIx"
      },
      "execution_count": 18,
      "outputs": []
    },
    {
      "cell_type": "code",
      "source": [
        "#15.Write a Python program to calculate the factorial of a number provided by the user using a while loop.\n",
        "\n",
        "#I don't know."
      ],
      "metadata": {
        "id": "_ZRQimUL9jlK"
      },
      "execution_count": 19,
      "outputs": []
    }
  ]
}